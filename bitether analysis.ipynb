{
 "cells": [
  {
   "cell_type": "code",
   "execution_count": 1,
   "metadata": {},
   "outputs": [],
   "source": [
    "import pandas as pd\n",
    "import numpy as np\n",
    "import seaborn as sns\n",
    "import matplotlib.pyplot as plt\n",
    "\n",
    "%matplotlib inline"
   ]
  },
  {
   "cell_type": "code",
   "execution_count": 2,
   "metadata": {},
   "outputs": [],
   "source": [
    "df=pd.read_csv('dset/bitcoin_cash_price.csv', index_col=0,parse_dates=True)"
   ]
  },
  {
   "cell_type": "code",
   "execution_count": 3,
   "metadata": {},
   "outputs": [
    {
     "data": {
      "text/html": [
       "<div>\n",
       "<style scoped>\n",
       "    .dataframe tbody tr th:only-of-type {\n",
       "        vertical-align: middle;\n",
       "    }\n",
       "\n",
       "    .dataframe tbody tr th {\n",
       "        vertical-align: top;\n",
       "    }\n",
       "\n",
       "    .dataframe thead th {\n",
       "        text-align: right;\n",
       "    }\n",
       "</style>\n",
       "<table border=\"1\" class=\"dataframe\">\n",
       "  <thead>\n",
       "    <tr style=\"text-align: right;\">\n",
       "      <th></th>\n",
       "      <th>Open</th>\n",
       "      <th>High</th>\n",
       "      <th>Low</th>\n",
       "      <th>Close</th>\n",
       "      <th>Volume</th>\n",
       "      <th>Market Cap</th>\n",
       "    </tr>\n",
       "    <tr>\n",
       "      <th>Date</th>\n",
       "      <th></th>\n",
       "      <th></th>\n",
       "      <th></th>\n",
       "      <th></th>\n",
       "      <th></th>\n",
       "      <th></th>\n",
       "    </tr>\n",
       "  </thead>\n",
       "  <tbody>\n",
       "    <tr>\n",
       "      <td>2018-02-20</td>\n",
       "      <td>1543.27</td>\n",
       "      <td>1569.03</td>\n",
       "      <td>1414.35</td>\n",
       "      <td>1418.73</td>\n",
       "      <td>820,947,000</td>\n",
       "      <td>26,199,800,000</td>\n",
       "    </tr>\n",
       "    <tr>\n",
       "      <td>2018-02-19</td>\n",
       "      <td>1483.34</td>\n",
       "      <td>1553.81</td>\n",
       "      <td>1483.34</td>\n",
       "      <td>1534.77</td>\n",
       "      <td>578,906,000</td>\n",
       "      <td>25,179,700,000</td>\n",
       "    </tr>\n",
       "    <tr>\n",
       "      <td>2018-02-18</td>\n",
       "      <td>1552.10</td>\n",
       "      <td>1641.40</td>\n",
       "      <td>1428.49</td>\n",
       "      <td>1487.46</td>\n",
       "      <td>907,873,000</td>\n",
       "      <td>26,344,200,000</td>\n",
       "    </tr>\n",
       "    <tr>\n",
       "      <td>2018-02-17</td>\n",
       "      <td>1548.48</td>\n",
       "      <td>1568.64</td>\n",
       "      <td>1517.14</td>\n",
       "      <td>1551.39</td>\n",
       "      <td>641,719,000</td>\n",
       "      <td>26,280,100,000</td>\n",
       "    </tr>\n",
       "    <tr>\n",
       "      <td>2018-02-16</td>\n",
       "      <td>1373.16</td>\n",
       "      <td>1558.66</td>\n",
       "      <td>1369.68</td>\n",
       "      <td>1552.20</td>\n",
       "      <td>961,010,000</td>\n",
       "      <td>23,302,000,000</td>\n",
       "    </tr>\n",
       "  </tbody>\n",
       "</table>\n",
       "</div>"
      ],
      "text/plain": [
       "               Open     High      Low    Close       Volume      Market Cap\n",
       "Date                                                                       \n",
       "2018-02-20  1543.27  1569.03  1414.35  1418.73  820,947,000  26,199,800,000\n",
       "2018-02-19  1483.34  1553.81  1483.34  1534.77  578,906,000  25,179,700,000\n",
       "2018-02-18  1552.10  1641.40  1428.49  1487.46  907,873,000  26,344,200,000\n",
       "2018-02-17  1548.48  1568.64  1517.14  1551.39  641,719,000  26,280,100,000\n",
       "2018-02-16  1373.16  1558.66  1369.68  1552.20  961,010,000  23,302,000,000"
      ]
     },
     "execution_count": 3,
     "metadata": {},
     "output_type": "execute_result"
    }
   ],
   "source": [
    "df.head()"
   ]
  },
  {
   "cell_type": "code",
   "execution_count": 4,
   "metadata": {},
   "outputs": [
    {
     "name": "stdout",
     "output_type": "stream",
     "text": [
      "<class 'pandas.core.frame.DataFrame'>\n",
      "DatetimeIndex: 213 entries, 2018-02-20 to 2017-07-23\n",
      "Data columns (total 6 columns):\n",
      "Open          213 non-null float64\n",
      "High          213 non-null float64\n",
      "Low           213 non-null float64\n",
      "Close         213 non-null float64\n",
      "Volume        213 non-null object\n",
      "Market Cap    213 non-null object\n",
      "dtypes: float64(4), object(2)\n",
      "memory usage: 11.6+ KB\n"
     ]
    }
   ],
   "source": [
    "df.info()"
   ]
  },
  {
   "cell_type": "code",
   "execution_count": 5,
   "metadata": {},
   "outputs": [
    {
     "data": {
      "text/plain": [
       "(213, 6)"
      ]
     },
     "execution_count": 5,
     "metadata": {},
     "output_type": "execute_result"
    }
   ],
   "source": [
    "df.shape"
   ]
  },
  {
   "cell_type": "code",
   "execution_count": 6,
   "metadata": {},
   "outputs": [
    {
     "data": {
      "text/plain": [
       "Open          float64\n",
       "High          float64\n",
       "Low           float64\n",
       "Close         float64\n",
       "Volume         object\n",
       "Market Cap     object\n",
       "dtype: object"
      ]
     },
     "execution_count": 6,
     "metadata": {},
     "output_type": "execute_result"
    }
   ],
   "source": [
    "df.dtypes"
   ]
  },
  {
   "cell_type": "code",
   "execution_count": 9,
   "metadata": {},
   "outputs": [
    {
     "data": {
      "text/plain": [
       "DatetimeIndex(['2018-02-20', '2018-02-19', '2018-02-18', '2018-02-17',\n",
       "               '2018-02-16', '2018-02-15', '2018-02-14', '2018-02-13',\n",
       "               '2018-02-12', '2018-02-11',\n",
       "               ...\n",
       "               '2017-08-01', '2017-07-31', '2017-07-30', '2017-07-29',\n",
       "               '2017-07-28', '2017-07-27', '2017-07-26', '2017-07-25',\n",
       "               '2017-07-24', '2017-07-23'],\n",
       "              dtype='datetime64[ns]', name='Date', length=213, freq=None)"
      ]
     },
     "execution_count": 9,
     "metadata": {},
     "output_type": "execute_result"
    }
   ],
   "source": [
    "df.index"
   ]
  },
  {
   "cell_type": "code",
   "execution_count": 10,
   "metadata": {},
   "outputs": [],
   "source": [
    "df['Mprice']=(df['High']+df['Low'])/2"
   ]
  },
  {
   "cell_type": "code",
   "execution_count": 11,
   "metadata": {},
   "outputs": [
    {
     "data": {
      "text/html": [
       "<div>\n",
       "<style scoped>\n",
       "    .dataframe tbody tr th:only-of-type {\n",
       "        vertical-align: middle;\n",
       "    }\n",
       "\n",
       "    .dataframe tbody tr th {\n",
       "        vertical-align: top;\n",
       "    }\n",
       "\n",
       "    .dataframe thead th {\n",
       "        text-align: right;\n",
       "    }\n",
       "</style>\n",
       "<table border=\"1\" class=\"dataframe\">\n",
       "  <thead>\n",
       "    <tr style=\"text-align: right;\">\n",
       "      <th></th>\n",
       "      <th>Open</th>\n",
       "      <th>High</th>\n",
       "      <th>Low</th>\n",
       "      <th>Close</th>\n",
       "      <th>Volume</th>\n",
       "      <th>Market Cap</th>\n",
       "      <th>Mprice</th>\n",
       "    </tr>\n",
       "    <tr>\n",
       "      <th>Date</th>\n",
       "      <th></th>\n",
       "      <th></th>\n",
       "      <th></th>\n",
       "      <th></th>\n",
       "      <th></th>\n",
       "      <th></th>\n",
       "      <th></th>\n",
       "    </tr>\n",
       "  </thead>\n",
       "  <tbody>\n",
       "    <tr>\n",
       "      <td>2018-02-20</td>\n",
       "      <td>1543.27</td>\n",
       "      <td>1569.03</td>\n",
       "      <td>1414.35</td>\n",
       "      <td>1418.73</td>\n",
       "      <td>820,947,000</td>\n",
       "      <td>26,199,800,000</td>\n",
       "      <td>1491.690</td>\n",
       "    </tr>\n",
       "    <tr>\n",
       "      <td>2018-02-19</td>\n",
       "      <td>1483.34</td>\n",
       "      <td>1553.81</td>\n",
       "      <td>1483.34</td>\n",
       "      <td>1534.77</td>\n",
       "      <td>578,906,000</td>\n",
       "      <td>25,179,700,000</td>\n",
       "      <td>1518.575</td>\n",
       "    </tr>\n",
       "    <tr>\n",
       "      <td>2018-02-18</td>\n",
       "      <td>1552.10</td>\n",
       "      <td>1641.40</td>\n",
       "      <td>1428.49</td>\n",
       "      <td>1487.46</td>\n",
       "      <td>907,873,000</td>\n",
       "      <td>26,344,200,000</td>\n",
       "      <td>1534.945</td>\n",
       "    </tr>\n",
       "    <tr>\n",
       "      <td>2018-02-17</td>\n",
       "      <td>1548.48</td>\n",
       "      <td>1568.64</td>\n",
       "      <td>1517.14</td>\n",
       "      <td>1551.39</td>\n",
       "      <td>641,719,000</td>\n",
       "      <td>26,280,100,000</td>\n",
       "      <td>1542.890</td>\n",
       "    </tr>\n",
       "    <tr>\n",
       "      <td>2018-02-16</td>\n",
       "      <td>1373.16</td>\n",
       "      <td>1558.66</td>\n",
       "      <td>1369.68</td>\n",
       "      <td>1552.20</td>\n",
       "      <td>961,010,000</td>\n",
       "      <td>23,302,000,000</td>\n",
       "      <td>1464.170</td>\n",
       "    </tr>\n",
       "    <tr>\n",
       "      <td>...</td>\n",
       "      <td>...</td>\n",
       "      <td>...</td>\n",
       "      <td>...</td>\n",
       "      <td>...</td>\n",
       "      <td>...</td>\n",
       "      <td>...</td>\n",
       "      <td>...</td>\n",
       "    </tr>\n",
       "    <tr>\n",
       "      <td>2017-07-27</td>\n",
       "      <td>417.10</td>\n",
       "      <td>460.97</td>\n",
       "      <td>367.78</td>\n",
       "      <td>385.48</td>\n",
       "      <td>533,207</td>\n",
       "      <td>-</td>\n",
       "      <td>414.375</td>\n",
       "    </tr>\n",
       "    <tr>\n",
       "      <td>2017-07-26</td>\n",
       "      <td>407.08</td>\n",
       "      <td>486.16</td>\n",
       "      <td>321.79</td>\n",
       "      <td>365.82</td>\n",
       "      <td>1,784,640</td>\n",
       "      <td>-</td>\n",
       "      <td>403.975</td>\n",
       "    </tr>\n",
       "    <tr>\n",
       "      <td>2017-07-25</td>\n",
       "      <td>441.35</td>\n",
       "      <td>541.66</td>\n",
       "      <td>338.09</td>\n",
       "      <td>406.90</td>\n",
       "      <td>524,908</td>\n",
       "      <td>-</td>\n",
       "      <td>439.875</td>\n",
       "    </tr>\n",
       "    <tr>\n",
       "      <td>2017-07-24</td>\n",
       "      <td>412.58</td>\n",
       "      <td>578.89</td>\n",
       "      <td>409.21</td>\n",
       "      <td>440.70</td>\n",
       "      <td>190,952</td>\n",
       "      <td>-</td>\n",
       "      <td>494.050</td>\n",
       "    </tr>\n",
       "    <tr>\n",
       "      <td>2017-07-23</td>\n",
       "      <td>555.89</td>\n",
       "      <td>578.97</td>\n",
       "      <td>411.78</td>\n",
       "      <td>413.06</td>\n",
       "      <td>85,013</td>\n",
       "      <td>-</td>\n",
       "      <td>495.375</td>\n",
       "    </tr>\n",
       "  </tbody>\n",
       "</table>\n",
       "<p>213 rows × 7 columns</p>\n",
       "</div>"
      ],
      "text/plain": [
       "               Open     High      Low    Close       Volume      Market Cap  \\\n",
       "Date                                                                          \n",
       "2018-02-20  1543.27  1569.03  1414.35  1418.73  820,947,000  26,199,800,000   \n",
       "2018-02-19  1483.34  1553.81  1483.34  1534.77  578,906,000  25,179,700,000   \n",
       "2018-02-18  1552.10  1641.40  1428.49  1487.46  907,873,000  26,344,200,000   \n",
       "2018-02-17  1548.48  1568.64  1517.14  1551.39  641,719,000  26,280,100,000   \n",
       "2018-02-16  1373.16  1558.66  1369.68  1552.20  961,010,000  23,302,000,000   \n",
       "...             ...      ...      ...      ...          ...             ...   \n",
       "2017-07-27   417.10   460.97   367.78   385.48      533,207               -   \n",
       "2017-07-26   407.08   486.16   321.79   365.82    1,784,640               -   \n",
       "2017-07-25   441.35   541.66   338.09   406.90      524,908               -   \n",
       "2017-07-24   412.58   578.89   409.21   440.70      190,952               -   \n",
       "2017-07-23   555.89   578.97   411.78   413.06       85,013               -   \n",
       "\n",
       "              Mprice  \n",
       "Date                  \n",
       "2018-02-20  1491.690  \n",
       "2018-02-19  1518.575  \n",
       "2018-02-18  1534.945  \n",
       "2018-02-17  1542.890  \n",
       "2018-02-16  1464.170  \n",
       "...              ...  \n",
       "2017-07-27   414.375  \n",
       "2017-07-26   403.975  \n",
       "2017-07-25   439.875  \n",
       "2017-07-24   494.050  \n",
       "2017-07-23   495.375  \n",
       "\n",
       "[213 rows x 7 columns]"
      ]
     },
     "execution_count": 11,
     "metadata": {},
     "output_type": "execute_result"
    }
   ],
   "source": [
    "df"
   ]
  },
  {
   "cell_type": "code",
   "execution_count": 12,
   "metadata": {},
   "outputs": [
    {
     "data": {
      "text/html": [
       "<div>\n",
       "<style scoped>\n",
       "    .dataframe tbody tr th:only-of-type {\n",
       "        vertical-align: middle;\n",
       "    }\n",
       "\n",
       "    .dataframe tbody tr th {\n",
       "        vertical-align: top;\n",
       "    }\n",
       "\n",
       "    .dataframe thead th {\n",
       "        text-align: right;\n",
       "    }\n",
       "</style>\n",
       "<table border=\"1\" class=\"dataframe\">\n",
       "  <thead>\n",
       "    <tr style=\"text-align: right;\">\n",
       "      <th></th>\n",
       "      <th>Open</th>\n",
       "      <th>High</th>\n",
       "      <th>Low</th>\n",
       "      <th>Close</th>\n",
       "      <th>Volume</th>\n",
       "      <th>Market Cap</th>\n",
       "      <th>Mprice</th>\n",
       "    </tr>\n",
       "    <tr>\n",
       "      <th>Date</th>\n",
       "      <th></th>\n",
       "      <th></th>\n",
       "      <th></th>\n",
       "      <th></th>\n",
       "      <th></th>\n",
       "      <th></th>\n",
       "      <th></th>\n",
       "    </tr>\n",
       "  </thead>\n",
       "  <tbody>\n",
       "    <tr>\n",
       "      <td>2018-02-20</td>\n",
       "      <td>1543.27</td>\n",
       "      <td>1569.03</td>\n",
       "      <td>1414.35</td>\n",
       "      <td>1418.73</td>\n",
       "      <td>820,947,000</td>\n",
       "      <td>26,199,800,000</td>\n",
       "      <td>1491.690</td>\n",
       "    </tr>\n",
       "    <tr>\n",
       "      <td>2018-02-19</td>\n",
       "      <td>1483.34</td>\n",
       "      <td>1553.81</td>\n",
       "      <td>1483.34</td>\n",
       "      <td>1534.77</td>\n",
       "      <td>578,906,000</td>\n",
       "      <td>25,179,700,000</td>\n",
       "      <td>1518.575</td>\n",
       "    </tr>\n",
       "    <tr>\n",
       "      <td>2018-02-18</td>\n",
       "      <td>1552.10</td>\n",
       "      <td>1641.40</td>\n",
       "      <td>1428.49</td>\n",
       "      <td>1487.46</td>\n",
       "      <td>907,873,000</td>\n",
       "      <td>26,344,200,000</td>\n",
       "      <td>1534.945</td>\n",
       "    </tr>\n",
       "    <tr>\n",
       "      <td>2018-02-17</td>\n",
       "      <td>1548.48</td>\n",
       "      <td>1568.64</td>\n",
       "      <td>1517.14</td>\n",
       "      <td>1551.39</td>\n",
       "      <td>641,719,000</td>\n",
       "      <td>26,280,100,000</td>\n",
       "      <td>1542.890</td>\n",
       "    </tr>\n",
       "    <tr>\n",
       "      <td>2018-02-16</td>\n",
       "      <td>1373.16</td>\n",
       "      <td>1558.66</td>\n",
       "      <td>1369.68</td>\n",
       "      <td>1552.20</td>\n",
       "      <td>961,010,000</td>\n",
       "      <td>23,302,000,000</td>\n",
       "      <td>1464.170</td>\n",
       "    </tr>\n",
       "  </tbody>\n",
       "</table>\n",
       "</div>"
      ],
      "text/plain": [
       "               Open     High      Low    Close       Volume      Market Cap  \\\n",
       "Date                                                                          \n",
       "2018-02-20  1543.27  1569.03  1414.35  1418.73  820,947,000  26,199,800,000   \n",
       "2018-02-19  1483.34  1553.81  1483.34  1534.77  578,906,000  25,179,700,000   \n",
       "2018-02-18  1552.10  1641.40  1428.49  1487.46  907,873,000  26,344,200,000   \n",
       "2018-02-17  1548.48  1568.64  1517.14  1551.39  641,719,000  26,280,100,000   \n",
       "2018-02-16  1373.16  1558.66  1369.68  1552.20  961,010,000  23,302,000,000   \n",
       "\n",
       "              Mprice  \n",
       "Date                  \n",
       "2018-02-20  1491.690  \n",
       "2018-02-19  1518.575  \n",
       "2018-02-18  1534.945  \n",
       "2018-02-17  1542.890  \n",
       "2018-02-16  1464.170  "
      ]
     },
     "execution_count": 12,
     "metadata": {},
     "output_type": "execute_result"
    }
   ],
   "source": [
    "df.head()"
   ]
  },
  {
   "cell_type": "code",
   "execution_count": 13,
   "metadata": {},
   "outputs": [
    {
     "data": {
      "text/html": [
       "<div>\n",
       "<style scoped>\n",
       "    .dataframe tbody tr th:only-of-type {\n",
       "        vertical-align: middle;\n",
       "    }\n",
       "\n",
       "    .dataframe tbody tr th {\n",
       "        vertical-align: top;\n",
       "    }\n",
       "\n",
       "    .dataframe thead th {\n",
       "        text-align: right;\n",
       "    }\n",
       "</style>\n",
       "<table border=\"1\" class=\"dataframe\">\n",
       "  <thead>\n",
       "    <tr style=\"text-align: right;\">\n",
       "      <th></th>\n",
       "      <th>Open</th>\n",
       "      <th>High</th>\n",
       "      <th>Low</th>\n",
       "      <th>Close</th>\n",
       "      <th>Volume</th>\n",
       "      <th>Market Cap</th>\n",
       "      <th>Mprice</th>\n",
       "    </tr>\n",
       "    <tr>\n",
       "      <th>Date</th>\n",
       "      <th></th>\n",
       "      <th></th>\n",
       "      <th></th>\n",
       "      <th></th>\n",
       "      <th></th>\n",
       "      <th></th>\n",
       "      <th></th>\n",
       "    </tr>\n",
       "  </thead>\n",
       "  <tbody>\n",
       "    <tr>\n",
       "      <td>2017-07-27</td>\n",
       "      <td>417.10</td>\n",
       "      <td>460.97</td>\n",
       "      <td>367.78</td>\n",
       "      <td>385.48</td>\n",
       "      <td>533,207</td>\n",
       "      <td>-</td>\n",
       "      <td>414.375</td>\n",
       "    </tr>\n",
       "    <tr>\n",
       "      <td>2017-07-26</td>\n",
       "      <td>407.08</td>\n",
       "      <td>486.16</td>\n",
       "      <td>321.79</td>\n",
       "      <td>365.82</td>\n",
       "      <td>1,784,640</td>\n",
       "      <td>-</td>\n",
       "      <td>403.975</td>\n",
       "    </tr>\n",
       "    <tr>\n",
       "      <td>2017-07-25</td>\n",
       "      <td>441.35</td>\n",
       "      <td>541.66</td>\n",
       "      <td>338.09</td>\n",
       "      <td>406.90</td>\n",
       "      <td>524,908</td>\n",
       "      <td>-</td>\n",
       "      <td>439.875</td>\n",
       "    </tr>\n",
       "    <tr>\n",
       "      <td>2017-07-24</td>\n",
       "      <td>412.58</td>\n",
       "      <td>578.89</td>\n",
       "      <td>409.21</td>\n",
       "      <td>440.70</td>\n",
       "      <td>190,952</td>\n",
       "      <td>-</td>\n",
       "      <td>494.050</td>\n",
       "    </tr>\n",
       "    <tr>\n",
       "      <td>2017-07-23</td>\n",
       "      <td>555.89</td>\n",
       "      <td>578.97</td>\n",
       "      <td>411.78</td>\n",
       "      <td>413.06</td>\n",
       "      <td>85,013</td>\n",
       "      <td>-</td>\n",
       "      <td>495.375</td>\n",
       "    </tr>\n",
       "  </tbody>\n",
       "</table>\n",
       "</div>"
      ],
      "text/plain": [
       "              Open    High     Low   Close     Volume Market Cap   Mprice\n",
       "Date                                                                     \n",
       "2017-07-27  417.10  460.97  367.78  385.48    533,207          -  414.375\n",
       "2017-07-26  407.08  486.16  321.79  365.82  1,784,640          -  403.975\n",
       "2017-07-25  441.35  541.66  338.09  406.90    524,908          -  439.875\n",
       "2017-07-24  412.58  578.89  409.21  440.70    190,952          -  494.050\n",
       "2017-07-23  555.89  578.97  411.78  413.06     85,013          -  495.375"
      ]
     },
     "execution_count": 13,
     "metadata": {},
     "output_type": "execute_result"
    }
   ],
   "source": [
    "df.tail()"
   ]
  },
  {
   "cell_type": "code",
   "execution_count": 15,
   "metadata": {},
   "outputs": [
    {
     "data": {
      "text/plain": [
       "Open          False\n",
       "High          False\n",
       "Low           False\n",
       "Close         False\n",
       "Volume        False\n",
       "Market Cap    False\n",
       "Mprice        False\n",
       "dtype: bool"
      ]
     },
     "execution_count": 15,
     "metadata": {},
     "output_type": "execute_result"
    }
   ],
   "source": [
    "df.isna().any()"
   ]
  },
  {
   "cell_type": "code",
   "execution_count": 45,
   "metadata": {},
   "outputs": [
    {
     "data": {
      "text/html": [
       "<div>\n",
       "<style scoped>\n",
       "    .dataframe tbody tr th:only-of-type {\n",
       "        vertical-align: middle;\n",
       "    }\n",
       "\n",
       "    .dataframe tbody tr th {\n",
       "        vertical-align: top;\n",
       "    }\n",
       "\n",
       "    .dataframe thead th {\n",
       "        text-align: right;\n",
       "    }\n",
       "</style>\n",
       "<table border=\"1\" class=\"dataframe\">\n",
       "  <thead>\n",
       "    <tr style=\"text-align: right;\">\n",
       "      <th></th>\n",
       "      <th>Date</th>\n",
       "      <th>Open</th>\n",
       "      <th>High</th>\n",
       "      <th>Low</th>\n",
       "      <th>Close</th>\n",
       "      <th>Volume</th>\n",
       "      <th>Market Cap</th>\n",
       "    </tr>\n",
       "  </thead>\n",
       "  <tbody>\n",
       "    <tr>\n",
       "      <td>0</td>\n",
       "      <td>Feb 20, 2018</td>\n",
       "      <td>39.41</td>\n",
       "      <td>43.96</td>\n",
       "      <td>38.23</td>\n",
       "      <td>38.47</td>\n",
       "      <td>1,175,890,000</td>\n",
       "      <td>3,940,010,000</td>\n",
       "    </tr>\n",
       "    <tr>\n",
       "      <td>1</td>\n",
       "      <td>Feb 19, 2018</td>\n",
       "      <td>34.69</td>\n",
       "      <td>40.26</td>\n",
       "      <td>33.93</td>\n",
       "      <td>39.29</td>\n",
       "      <td>992,256,000</td>\n",
       "      <td>3,467,860,000</td>\n",
       "    </tr>\n",
       "    <tr>\n",
       "      <td>2</td>\n",
       "      <td>Feb 18, 2018</td>\n",
       "      <td>35.01</td>\n",
       "      <td>35.08</td>\n",
       "      <td>31.52</td>\n",
       "      <td>34.88</td>\n",
       "      <td>456,829,000</td>\n",
       "      <td>3,498,390,000</td>\n",
       "    </tr>\n",
       "    <tr>\n",
       "      <td>3</td>\n",
       "      <td>Feb 17, 2018</td>\n",
       "      <td>34.97</td>\n",
       "      <td>35.40</td>\n",
       "      <td>34.38</td>\n",
       "      <td>34.99</td>\n",
       "      <td>418,534,000</td>\n",
       "      <td>3,493,650,000</td>\n",
       "    </tr>\n",
       "    <tr>\n",
       "      <td>4</td>\n",
       "      <td>Feb 16, 2018</td>\n",
       "      <td>34.43</td>\n",
       "      <td>35.34</td>\n",
       "      <td>32.90</td>\n",
       "      <td>35.03</td>\n",
       "      <td>456,754,000</td>\n",
       "      <td>3,439,180,000</td>\n",
       "    </tr>\n",
       "  </tbody>\n",
       "</table>\n",
       "</div>"
      ],
      "text/plain": [
       "           Date   Open   High    Low  Close         Volume     Market Cap\n",
       "0  Feb 20, 2018  39.41  43.96  38.23  38.47  1,175,890,000  3,940,010,000\n",
       "1  Feb 19, 2018  34.69  40.26  33.93  39.29    992,256,000  3,467,860,000\n",
       "2  Feb 18, 2018  35.01  35.08  31.52  34.88    456,829,000  3,498,390,000\n",
       "3  Feb 17, 2018  34.97  35.40  34.38  34.99    418,534,000  3,493,650,000\n",
       "4  Feb 16, 2018  34.43  35.34  32.90  35.03    456,754,000  3,439,180,000"
      ]
     },
     "execution_count": 45,
     "metadata": {},
     "output_type": "execute_result"
    }
   ],
   "source": [
    "df2=pd.read_csv('dset/ethereum_classic_price.csv')\n",
    "df2.head()"
   ]
  },
  {
   "cell_type": "code",
   "execution_count": 46,
   "metadata": {},
   "outputs": [
    {
     "data": {
      "text/plain": [
       "Date           object\n",
       "Open          float64\n",
       "High          float64\n",
       "Low           float64\n",
       "Close         float64\n",
       "Volume         object\n",
       "Market Cap     object\n",
       "dtype: object"
      ]
     },
     "execution_count": 46,
     "metadata": {},
     "output_type": "execute_result"
    }
   ],
   "source": [
    "df2.dtypes"
   ]
  },
  {
   "cell_type": "code",
   "execution_count": 47,
   "metadata": {},
   "outputs": [],
   "source": [
    "df2['Date']=pd.to_datetime(df2['Date'])"
   ]
  },
  {
   "cell_type": "code",
   "execution_count": 48,
   "metadata": {},
   "outputs": [
    {
     "data": {
      "text/plain": [
       "Date          datetime64[ns]\n",
       "Open                 float64\n",
       "High                 float64\n",
       "Low                  float64\n",
       "Close                float64\n",
       "Volume                object\n",
       "Market Cap            object\n",
       "dtype: object"
      ]
     },
     "execution_count": 48,
     "metadata": {},
     "output_type": "execute_result"
    }
   ],
   "source": [
    "df2.dtypes"
   ]
  },
  {
   "cell_type": "code",
   "execution_count": 49,
   "metadata": {},
   "outputs": [],
   "source": [
    "df2.set_index('Date',inplace=True)"
   ]
  },
  {
   "cell_type": "code",
   "execution_count": 50,
   "metadata": {},
   "outputs": [
    {
     "name": "stdout",
     "output_type": "stream",
     "text": [
      "<class 'pandas.core.frame.DataFrame'>\n",
      "DatetimeIndex: 577 entries, 2018-02-20 to 2016-07-24\n",
      "Data columns (total 6 columns):\n",
      "Open          577 non-null float64\n",
      "High          577 non-null float64\n",
      "Low           577 non-null float64\n",
      "Close         577 non-null float64\n",
      "Volume        577 non-null object\n",
      "Market Cap    577 non-null object\n",
      "dtypes: float64(4), object(2)\n",
      "memory usage: 31.6+ KB\n"
     ]
    }
   ],
   "source": [
    "df2.info()"
   ]
  },
  {
   "cell_type": "code",
   "execution_count": 51,
   "metadata": {},
   "outputs": [
    {
     "data": {
      "text/html": [
       "<div>\n",
       "<style scoped>\n",
       "    .dataframe tbody tr th:only-of-type {\n",
       "        vertical-align: middle;\n",
       "    }\n",
       "\n",
       "    .dataframe tbody tr th {\n",
       "        vertical-align: top;\n",
       "    }\n",
       "\n",
       "    .dataframe thead th {\n",
       "        text-align: right;\n",
       "    }\n",
       "</style>\n",
       "<table border=\"1\" class=\"dataframe\">\n",
       "  <thead>\n",
       "    <tr style=\"text-align: right;\">\n",
       "      <th></th>\n",
       "      <th>Open</th>\n",
       "      <th>High</th>\n",
       "      <th>Low</th>\n",
       "      <th>Close</th>\n",
       "      <th>Volume</th>\n",
       "      <th>Market Cap</th>\n",
       "    </tr>\n",
       "    <tr>\n",
       "      <th>Date</th>\n",
       "      <th></th>\n",
       "      <th></th>\n",
       "      <th></th>\n",
       "      <th></th>\n",
       "      <th></th>\n",
       "      <th></th>\n",
       "    </tr>\n",
       "  </thead>\n",
       "  <tbody>\n",
       "    <tr>\n",
       "      <td>2018-02-20</td>\n",
       "      <td>39.41</td>\n",
       "      <td>43.96</td>\n",
       "      <td>38.23</td>\n",
       "      <td>38.47</td>\n",
       "      <td>1,175,890,000</td>\n",
       "      <td>3,940,010,000</td>\n",
       "    </tr>\n",
       "    <tr>\n",
       "      <td>2018-02-19</td>\n",
       "      <td>34.69</td>\n",
       "      <td>40.26</td>\n",
       "      <td>33.93</td>\n",
       "      <td>39.29</td>\n",
       "      <td>992,256,000</td>\n",
       "      <td>3,467,860,000</td>\n",
       "    </tr>\n",
       "    <tr>\n",
       "      <td>2018-02-18</td>\n",
       "      <td>35.01</td>\n",
       "      <td>35.08</td>\n",
       "      <td>31.52</td>\n",
       "      <td>34.88</td>\n",
       "      <td>456,829,000</td>\n",
       "      <td>3,498,390,000</td>\n",
       "    </tr>\n",
       "    <tr>\n",
       "      <td>2018-02-17</td>\n",
       "      <td>34.97</td>\n",
       "      <td>35.40</td>\n",
       "      <td>34.38</td>\n",
       "      <td>34.99</td>\n",
       "      <td>418,534,000</td>\n",
       "      <td>3,493,650,000</td>\n",
       "    </tr>\n",
       "    <tr>\n",
       "      <td>2018-02-16</td>\n",
       "      <td>34.43</td>\n",
       "      <td>35.34</td>\n",
       "      <td>32.90</td>\n",
       "      <td>35.03</td>\n",
       "      <td>456,754,000</td>\n",
       "      <td>3,439,180,000</td>\n",
       "    </tr>\n",
       "  </tbody>\n",
       "</table>\n",
       "</div>"
      ],
      "text/plain": [
       "             Open   High    Low  Close         Volume     Market Cap\n",
       "Date                                                                \n",
       "2018-02-20  39.41  43.96  38.23  38.47  1,175,890,000  3,940,010,000\n",
       "2018-02-19  34.69  40.26  33.93  39.29    992,256,000  3,467,860,000\n",
       "2018-02-18  35.01  35.08  31.52  34.88    456,829,000  3,498,390,000\n",
       "2018-02-17  34.97  35.40  34.38  34.99    418,534,000  3,493,650,000\n",
       "2018-02-16  34.43  35.34  32.90  35.03    456,754,000  3,439,180,000"
      ]
     },
     "execution_count": 51,
     "metadata": {},
     "output_type": "execute_result"
    }
   ],
   "source": [
    "df2.head()"
   ]
  },
  {
   "cell_type": "code",
   "execution_count": 52,
   "metadata": {},
   "outputs": [],
   "source": [
    "df2['Mbprice']=(df2['High']+df2['Low'])/2"
   ]
  },
  {
   "cell_type": "code",
   "execution_count": 53,
   "metadata": {},
   "outputs": [
    {
     "data": {
      "text/html": [
       "<div>\n",
       "<style scoped>\n",
       "    .dataframe tbody tr th:only-of-type {\n",
       "        vertical-align: middle;\n",
       "    }\n",
       "\n",
       "    .dataframe tbody tr th {\n",
       "        vertical-align: top;\n",
       "    }\n",
       "\n",
       "    .dataframe thead th {\n",
       "        text-align: right;\n",
       "    }\n",
       "</style>\n",
       "<table border=\"1\" class=\"dataframe\">\n",
       "  <thead>\n",
       "    <tr style=\"text-align: right;\">\n",
       "      <th></th>\n",
       "      <th>Open</th>\n",
       "      <th>High</th>\n",
       "      <th>Low</th>\n",
       "      <th>Close</th>\n",
       "      <th>Volume</th>\n",
       "      <th>Market Cap</th>\n",
       "      <th>Mbprice</th>\n",
       "    </tr>\n",
       "    <tr>\n",
       "      <th>Date</th>\n",
       "      <th></th>\n",
       "      <th></th>\n",
       "      <th></th>\n",
       "      <th></th>\n",
       "      <th></th>\n",
       "      <th></th>\n",
       "      <th></th>\n",
       "    </tr>\n",
       "  </thead>\n",
       "  <tbody>\n",
       "    <tr>\n",
       "      <td>2018-02-20</td>\n",
       "      <td>39.41</td>\n",
       "      <td>43.96</td>\n",
       "      <td>38.23</td>\n",
       "      <td>38.47</td>\n",
       "      <td>1,175,890,000</td>\n",
       "      <td>3,940,010,000</td>\n",
       "      <td>41.095</td>\n",
       "    </tr>\n",
       "    <tr>\n",
       "      <td>2018-02-19</td>\n",
       "      <td>34.69</td>\n",
       "      <td>40.26</td>\n",
       "      <td>33.93</td>\n",
       "      <td>39.29</td>\n",
       "      <td>992,256,000</td>\n",
       "      <td>3,467,860,000</td>\n",
       "      <td>37.095</td>\n",
       "    </tr>\n",
       "    <tr>\n",
       "      <td>2018-02-18</td>\n",
       "      <td>35.01</td>\n",
       "      <td>35.08</td>\n",
       "      <td>31.52</td>\n",
       "      <td>34.88</td>\n",
       "      <td>456,829,000</td>\n",
       "      <td>3,498,390,000</td>\n",
       "      <td>33.300</td>\n",
       "    </tr>\n",
       "    <tr>\n",
       "      <td>2018-02-17</td>\n",
       "      <td>34.97</td>\n",
       "      <td>35.40</td>\n",
       "      <td>34.38</td>\n",
       "      <td>34.99</td>\n",
       "      <td>418,534,000</td>\n",
       "      <td>3,493,650,000</td>\n",
       "      <td>34.890</td>\n",
       "    </tr>\n",
       "    <tr>\n",
       "      <td>2018-02-16</td>\n",
       "      <td>34.43</td>\n",
       "      <td>35.34</td>\n",
       "      <td>32.90</td>\n",
       "      <td>35.03</td>\n",
       "      <td>456,754,000</td>\n",
       "      <td>3,439,180,000</td>\n",
       "      <td>34.120</td>\n",
       "    </tr>\n",
       "  </tbody>\n",
       "</table>\n",
       "</div>"
      ],
      "text/plain": [
       "             Open   High    Low  Close         Volume     Market Cap  Mbprice\n",
       "Date                                                                         \n",
       "2018-02-20  39.41  43.96  38.23  38.47  1,175,890,000  3,940,010,000   41.095\n",
       "2018-02-19  34.69  40.26  33.93  39.29    992,256,000  3,467,860,000   37.095\n",
       "2018-02-18  35.01  35.08  31.52  34.88    456,829,000  3,498,390,000   33.300\n",
       "2018-02-17  34.97  35.40  34.38  34.99    418,534,000  3,493,650,000   34.890\n",
       "2018-02-16  34.43  35.34  32.90  35.03    456,754,000  3,439,180,000   34.120"
      ]
     },
     "execution_count": 53,
     "metadata": {},
     "output_type": "execute_result"
    }
   ],
   "source": [
    "df2.head()"
   ]
  },
  {
   "cell_type": "code",
   "execution_count": 54,
   "metadata": {},
   "outputs": [
    {
     "data": {
      "text/plain": [
       "Open          False\n",
       "High          False\n",
       "Low           False\n",
       "Close         False\n",
       "Volume        False\n",
       "Market Cap    False\n",
       "Mbprice       False\n",
       "dtype: bool"
      ]
     },
     "execution_count": 54,
     "metadata": {},
     "output_type": "execute_result"
    }
   ],
   "source": [
    "df2.isna().any()"
   ]
  },
  {
   "cell_type": "code",
   "execution_count": 55,
   "metadata": {},
   "outputs": [],
   "source": [
    "prices=pd.DataFrame(index=df.index)"
   ]
  },
  {
   "cell_type": "code",
   "execution_count": 56,
   "metadata": {},
   "outputs": [
    {
     "data": {
      "text/html": [
       "<div>\n",
       "<style scoped>\n",
       "    .dataframe tbody tr th:only-of-type {\n",
       "        vertical-align: middle;\n",
       "    }\n",
       "\n",
       "    .dataframe tbody tr th {\n",
       "        vertical-align: top;\n",
       "    }\n",
       "\n",
       "    .dataframe thead th {\n",
       "        text-align: right;\n",
       "    }\n",
       "</style>\n",
       "<table border=\"1\" class=\"dataframe\">\n",
       "  <thead>\n",
       "    <tr style=\"text-align: right;\">\n",
       "      <th></th>\n",
       "    </tr>\n",
       "    <tr>\n",
       "      <th>Date</th>\n",
       "    </tr>\n",
       "  </thead>\n",
       "  <tbody>\n",
       "    <tr>\n",
       "      <td>2018-02-20</td>\n",
       "    </tr>\n",
       "    <tr>\n",
       "      <td>2018-02-19</td>\n",
       "    </tr>\n",
       "    <tr>\n",
       "      <td>2018-02-18</td>\n",
       "    </tr>\n",
       "    <tr>\n",
       "      <td>2018-02-17</td>\n",
       "    </tr>\n",
       "    <tr>\n",
       "      <td>2018-02-16</td>\n",
       "    </tr>\n",
       "  </tbody>\n",
       "</table>\n",
       "</div>"
      ],
      "text/plain": [
       "Empty DataFrame\n",
       "Columns: []\n",
       "Index: [2018-02-20 00:00:00, 2018-02-19 00:00:00, 2018-02-18 00:00:00, 2018-02-17 00:00:00, 2018-02-16 00:00:00]"
      ]
     },
     "execution_count": 56,
     "metadata": {},
     "output_type": "execute_result"
    }
   ],
   "source": [
    "prices.head()"
   ]
  },
  {
   "cell_type": "code",
   "execution_count": 60,
   "metadata": {},
   "outputs": [],
   "source": [
    "prices['Ether']=df2['Mbprice']"
   ]
  },
  {
   "cell_type": "code",
   "execution_count": 61,
   "metadata": {},
   "outputs": [],
   "source": [
    "prices['Btc']=df['Mprice']"
   ]
  },
  {
   "cell_type": "code",
   "execution_count": 62,
   "metadata": {},
   "outputs": [
    {
     "data": {
      "text/html": [
       "<div>\n",
       "<style scoped>\n",
       "    .dataframe tbody tr th:only-of-type {\n",
       "        vertical-align: middle;\n",
       "    }\n",
       "\n",
       "    .dataframe tbody tr th {\n",
       "        vertical-align: top;\n",
       "    }\n",
       "\n",
       "    .dataframe thead th {\n",
       "        text-align: right;\n",
       "    }\n",
       "</style>\n",
       "<table border=\"1\" class=\"dataframe\">\n",
       "  <thead>\n",
       "    <tr style=\"text-align: right;\">\n",
       "      <th></th>\n",
       "      <th>Btc</th>\n",
       "      <th>Ether</th>\n",
       "    </tr>\n",
       "    <tr>\n",
       "      <th>Date</th>\n",
       "      <th></th>\n",
       "      <th></th>\n",
       "    </tr>\n",
       "  </thead>\n",
       "  <tbody>\n",
       "    <tr>\n",
       "      <td>2018-02-20</td>\n",
       "      <td>1491.690</td>\n",
       "      <td>41.095</td>\n",
       "    </tr>\n",
       "    <tr>\n",
       "      <td>2018-02-19</td>\n",
       "      <td>1518.575</td>\n",
       "      <td>37.095</td>\n",
       "    </tr>\n",
       "    <tr>\n",
       "      <td>2018-02-18</td>\n",
       "      <td>1534.945</td>\n",
       "      <td>33.300</td>\n",
       "    </tr>\n",
       "    <tr>\n",
       "      <td>2018-02-17</td>\n",
       "      <td>1542.890</td>\n",
       "      <td>34.890</td>\n",
       "    </tr>\n",
       "    <tr>\n",
       "      <td>2018-02-16</td>\n",
       "      <td>1464.170</td>\n",
       "      <td>34.120</td>\n",
       "    </tr>\n",
       "  </tbody>\n",
       "</table>\n",
       "</div>"
      ],
      "text/plain": [
       "                 Btc   Ether\n",
       "Date                        \n",
       "2018-02-20  1491.690  41.095\n",
       "2018-02-19  1518.575  37.095\n",
       "2018-02-18  1534.945  33.300\n",
       "2018-02-17  1542.890  34.890\n",
       "2018-02-16  1464.170  34.120"
      ]
     },
     "execution_count": 62,
     "metadata": {},
     "output_type": "execute_result"
    }
   ],
   "source": [
    "prices.head()"
   ]
  },
  {
   "cell_type": "code",
   "execution_count": 63,
   "metadata": {},
   "outputs": [
    {
     "data": {
      "text/plain": [
       "Btc      False\n",
       "Ether    False\n",
       "dtype: bool"
      ]
     },
     "execution_count": 63,
     "metadata": {},
     "output_type": "execute_result"
    }
   ],
   "source": [
    "prices.isna().any()"
   ]
  },
  {
   "cell_type": "code",
   "execution_count": 64,
   "metadata": {},
   "outputs": [
    {
     "data": {
      "text/plain": [
       "Btc      float64\n",
       "Ether    float64\n",
       "dtype: object"
      ]
     },
     "execution_count": 64,
     "metadata": {},
     "output_type": "execute_result"
    }
   ],
   "source": [
    "prices.dtypes"
   ]
  },
  {
   "cell_type": "code",
   "execution_count": 65,
   "metadata": {},
   "outputs": [
    {
     "data": {
      "text/plain": [
       "(213, 2)"
      ]
     },
     "execution_count": 65,
     "metadata": {},
     "output_type": "execute_result"
    }
   ],
   "source": [
    "prices.shape"
   ]
  },
  {
   "cell_type": "code",
   "execution_count": 66,
   "metadata": {},
   "outputs": [
    {
     "name": "stdout",
     "output_type": "stream",
     "text": [
      "<class 'pandas.core.frame.DataFrame'>\n",
      "DatetimeIndex: 213 entries, 2018-02-20 to 2017-07-23\n",
      "Data columns (total 2 columns):\n",
      "Btc      213 non-null float64\n",
      "Ether    213 non-null float64\n",
      "dtypes: float64(2)\n",
      "memory usage: 5.0 KB\n"
     ]
    }
   ],
   "source": [
    "prices.info()"
   ]
  },
  {
   "cell_type": "code",
   "execution_count": 67,
   "metadata": {},
   "outputs": [],
   "source": [
    "prices.to_csv('Bit-ether-price.csv',encoding='utf-8')"
   ]
  },
  {
   "cell_type": "code",
   "execution_count": 68,
   "metadata": {},
   "outputs": [
    {
     "data": {
      "text/plain": [
       "'saving a pandas file to csv '"
      ]
     },
     "execution_count": 68,
     "metadata": {},
     "output_type": "execute_result"
    }
   ],
   "source": [
    "\"\"\"saving a pandas file to csv \"\"\""
   ]
  },
  {
   "cell_type": "code",
   "execution_count": 69,
   "metadata": {},
   "outputs": [
    {
     "data": {
      "text/plain": [
       "<matplotlib.axes._subplots.AxesSubplot at 0x23cb80e9888>"
      ]
     },
     "execution_count": 69,
     "metadata": {},
     "output_type": "execute_result"
    },
    {
     "data": {
      "image/png": "[encoded data removed]",
      "text/plain": [
       "<Figure size 1152x648 with 1 Axes>"
      ]
     },
     "metadata": {
      "needs_background": "light"
     },
     "output_type": "display_data"
    }
   ],
   "source": [
    "prices.plot(figsize=(16,9))"
   ]
  },
  {
   "cell_type": "code",
   "execution_count": 70,
   "metadata": {},
   "outputs": [
    {
     "data": {
      "text/plain": [
       "<matplotlib.axes._subplots.AxesSubplot at 0x23cb859db88>"
      ]
     },
     "execution_count": 70,
     "metadata": {},
     "output_type": "execute_result"
    },
    {
     "data": {
      "image/png": "[encoded data removed]",
      "text/plain": [
       "<Figure size 864x432 with 1 Axes>"
      ]
     },
     "metadata": {
      "needs_background": "light"
     },
     "output_type": "display_data"
    }
   ],
   "source": [
    "prices.plot(y='Btc', figsize=(12,6))"
   ]
  },
  {
   "cell_type": "code",
   "execution_count": 72,
   "metadata": {},
   "outputs": [
    {
     "data": {
      "text/plain": [
       "<matplotlib.axes._subplots.AxesSubplot at 0x23cb8977788>"
      ]
     },
     "execution_count": 72,
     "metadata": {},
     "output_type": "execute_result"
    },
    {
     "data": {
      "image/png": "[encoded data removed]",
      "text/plain": [
       "<Figure size 864x432 with 1 Axes>"
      ]
     },
     "metadata": {
      "needs_background": "light"
     },
     "output_type": "display_data"
    }
   ],
   "source": [
    "prices.plot(y='Ether', figsize=(12,6))"
   ]
  },
  {
   "cell_type": "code",
   "execution_count": 78,
   "metadata": {},
   "outputs": [
    {
     "data": {
      "text/plain": [
       "<matplotlib.axes._subplots.AxesSubplot at 0x23cb8bb93c8>"
      ]
     },
     "execution_count": 78,
     "metadata": {},
     "output_type": "execute_result"
    },
    {
     "data": {
      "image/png": "[encoded data removed]",
      "text/plain": [
       "<Figure size 864x432 with 1 Axes>"
      ]
     },
     "metadata": {
      "needs_background": "light"
     },
     "output_type": "display_data"
    }
   ],
   "source": [
    "prices.loc['2018-2-20':'2018-1-10'].plot(y='Btc', figsize=(12,6))"
   ]
  },
  {
   "cell_type": "code",
   "execution_count": 79,
   "metadata": {},
   "outputs": [
    {
     "data": {
      "text/html": [
       "<div>\n",
       "<style scoped>\n",
       "    .dataframe tbody tr th:only-of-type {\n",
       "        vertical-align: middle;\n",
       "    }\n",
       "\n",
       "    .dataframe tbody tr th {\n",
       "        vertical-align: top;\n",
       "    }\n",
       "\n",
       "    .dataframe thead th {\n",
       "        text-align: right;\n",
       "    }\n",
       "</style>\n",
       "<table border=\"1\" class=\"dataframe\">\n",
       "  <thead>\n",
       "    <tr style=\"text-align: right;\">\n",
       "      <th></th>\n",
       "      <th>Btc</th>\n",
       "      <th>Ether</th>\n",
       "    </tr>\n",
       "    <tr>\n",
       "      <th>Date</th>\n",
       "      <th></th>\n",
       "      <th></th>\n",
       "    </tr>\n",
       "  </thead>\n",
       "  <tbody>\n",
       "    <tr>\n",
       "      <td>2017-08-01</td>\n",
       "      <td>318.245</td>\n",
       "      <td>14.275</td>\n",
       "    </tr>\n",
       "    <tr>\n",
       "      <td>2017-07-31</td>\n",
       "      <td>307.005</td>\n",
       "      <td>13.845</td>\n",
       "    </tr>\n",
       "    <tr>\n",
       "      <td>2017-07-30</td>\n",
       "      <td>350.695</td>\n",
       "      <td>14.085</td>\n",
       "    </tr>\n",
       "    <tr>\n",
       "      <td>2017-07-29</td>\n",
       "      <td>373.730</td>\n",
       "      <td>13.975</td>\n",
       "    </tr>\n",
       "    <tr>\n",
       "      <td>2017-07-28</td>\n",
       "      <td>341.120</td>\n",
       "      <td>14.395</td>\n",
       "    </tr>\n",
       "    <tr>\n",
       "      <td>2017-07-27</td>\n",
       "      <td>414.375</td>\n",
       "      <td>14.715</td>\n",
       "    </tr>\n",
       "    <tr>\n",
       "      <td>2017-07-26</td>\n",
       "      <td>403.975</td>\n",
       "      <td>14.650</td>\n",
       "    </tr>\n",
       "    <tr>\n",
       "      <td>2017-07-25</td>\n",
       "      <td>439.875</td>\n",
       "      <td>15.210</td>\n",
       "    </tr>\n",
       "    <tr>\n",
       "      <td>2017-07-24</td>\n",
       "      <td>494.050</td>\n",
       "      <td>15.790</td>\n",
       "    </tr>\n",
       "    <tr>\n",
       "      <td>2017-07-23</td>\n",
       "      <td>495.375</td>\n",
       "      <td>15.995</td>\n",
       "    </tr>\n",
       "  </tbody>\n",
       "</table>\n",
       "</div>"
      ],
      "text/plain": [
       "                Btc   Ether\n",
       "Date                       \n",
       "2017-08-01  318.245  14.275\n",
       "2017-07-31  307.005  13.845\n",
       "2017-07-30  350.695  14.085\n",
       "2017-07-29  373.730  13.975\n",
       "2017-07-28  341.120  14.395\n",
       "2017-07-27  414.375  14.715\n",
       "2017-07-26  403.975  14.650\n",
       "2017-07-25  439.875  15.210\n",
       "2017-07-24  494.050  15.790\n",
       "2017-07-23  495.375  15.995"
      ]
     },
     "execution_count": 79,
     "metadata": {},
     "output_type": "execute_result"
    }
   ],
   "source": [
    "prices.tail(10)"
   ]
  },
  {
   "cell_type": "code",
   "execution_count": 80,
   "metadata": {},
   "outputs": [
    {
     "data": {
      "text/plain": [
       "\"\\nequating null values of graphs\\ndf_na=df.loc['2018-1-10':'2018-7-10']\\ndf_na['Ether'].isna().any()\\nchecking the respective time\\ndf_na.loc[df_na['Ether'].isna()]\\n\""
      ]
     },
     "execution_count": 80,
     "metadata": {},
     "output_type": "execute_result"
    }
   ],
   "source": [
    "\"\"\"\n",
    "equating null values of graphs\n",
    "df_na=df.loc['2018-1-10':'2018-7-10']\n",
    "df_na['Ether'].isna().any()\n",
    "checking the respective time\n",
    "df_na.loc[df_na['Ether'].isna()]\n",
    "\"\"\""
   ]
  },
  {
   "cell_type": "code",
   "execution_count": 82,
   "metadata": {},
   "outputs": [
    {
     "data": {
      "text/html": [
       "<div>\n",
       "<style scoped>\n",
       "    .dataframe tbody tr th:only-of-type {\n",
       "        vertical-align: middle;\n",
       "    }\n",
       "\n",
       "    .dataframe tbody tr th {\n",
       "        vertical-align: top;\n",
       "    }\n",
       "\n",
       "    .dataframe thead th {\n",
       "        text-align: right;\n",
       "    }\n",
       "</style>\n",
       "<table border=\"1\" class=\"dataframe\">\n",
       "  <thead>\n",
       "    <tr style=\"text-align: right;\">\n",
       "      <th></th>\n",
       "      <th>Btc</th>\n",
       "      <th>Ether</th>\n",
       "    </tr>\n",
       "    <tr>\n",
       "      <th>Date</th>\n",
       "      <th></th>\n",
       "      <th></th>\n",
       "    </tr>\n",
       "  </thead>\n",
       "  <tbody>\n",
       "    <tr>\n",
       "      <td>2018-02-01</td>\n",
       "      <td>False</td>\n",
       "      <td>False</td>\n",
       "    </tr>\n",
       "    <tr>\n",
       "      <td>2018-01-31</td>\n",
       "      <td>False</td>\n",
       "      <td>False</td>\n",
       "    </tr>\n",
       "    <tr>\n",
       "      <td>2018-01-30</td>\n",
       "      <td>False</td>\n",
       "      <td>False</td>\n",
       "    </tr>\n",
       "    <tr>\n",
       "      <td>2018-01-29</td>\n",
       "      <td>False</td>\n",
       "      <td>False</td>\n",
       "    </tr>\n",
       "    <tr>\n",
       "      <td>2018-01-28</td>\n",
       "      <td>False</td>\n",
       "      <td>False</td>\n",
       "    </tr>\n",
       "    <tr>\n",
       "      <td>...</td>\n",
       "      <td>...</td>\n",
       "      <td>...</td>\n",
       "    </tr>\n",
       "    <tr>\n",
       "      <td>2017-11-14</td>\n",
       "      <td>False</td>\n",
       "      <td>False</td>\n",
       "    </tr>\n",
       "    <tr>\n",
       "      <td>2017-11-13</td>\n",
       "      <td>False</td>\n",
       "      <td>False</td>\n",
       "    </tr>\n",
       "    <tr>\n",
       "      <td>2017-11-12</td>\n",
       "      <td>False</td>\n",
       "      <td>False</td>\n",
       "    </tr>\n",
       "    <tr>\n",
       "      <td>2017-11-11</td>\n",
       "      <td>False</td>\n",
       "      <td>False</td>\n",
       "    </tr>\n",
       "    <tr>\n",
       "      <td>2017-11-10</td>\n",
       "      <td>False</td>\n",
       "      <td>False</td>\n",
       "    </tr>\n",
       "  </tbody>\n",
       "</table>\n",
       "<p>84 rows × 2 columns</p>\n",
       "</div>"
      ],
      "text/plain": [
       "              Btc  Ether\n",
       "Date                    \n",
       "2018-02-01  False  False\n",
       "2018-01-31  False  False\n",
       "2018-01-30  False  False\n",
       "2018-01-29  False  False\n",
       "2018-01-28  False  False\n",
       "...           ...    ...\n",
       "2017-11-14  False  False\n",
       "2017-11-13  False  False\n",
       "2017-11-12  False  False\n",
       "2017-11-11  False  False\n",
       "2017-11-10  False  False\n",
       "\n",
       "[84 rows x 2 columns]"
      ]
     },
     "execution_count": 82,
     "metadata": {},
     "output_type": "execute_result"
    }
   ],
   "source": [
    "prices.loc['2018-2-1':'2017-11-10'].isna()"
   ]
  },
  {
   "cell_type": "code",
   "execution_count": 83,
   "metadata": {},
   "outputs": [
    {
     "data": {
      "text/plain": [
       "\"FIlling the missing values\\ndf.loc['2018-1-11':'2017-12-20'].fillna(method='bfill')\\ndf.fillna(method='bfill', inplace=True)\\ndropping outlier values from the table\\ndf_clean=df.drop(pd.to_datetime(['2017-11-1','2018-1-1']))\\n\""
      ]
     },
     "execution_count": 83,
     "metadata": {},
     "output_type": "execute_result"
    }
   ],
   "source": [
    "\"\"\"FIlling the missing values\n",
    "df.loc['2018-1-11':'2017-12-20'].fillna(method='bfill')\n",
    "df.fillna(method='bfill', inplace=True)\n",
    "dropping outlier values from the table\n",
    "df_clean=df.drop(pd.to_datetime(['2017-11-1','2018-1-1']))\n",
    "\"\"\""
   ]
  },
  {
   "cell_type": "markdown",
   "metadata": {},
   "source": [
    "# Central tendencies for analysis"
   ]
  },
  {
   "cell_type": "code",
   "execution_count": 84,
   "metadata": {},
   "outputs": [
    {
     "data": {
      "text/plain": [
       "Btc      1107.324859\n",
       "Ether      20.971737\n",
       "dtype: float64"
      ]
     },
     "execution_count": 84,
     "metadata": {},
     "output_type": "execute_result"
    }
   ],
   "source": [
    "prices.mean()"
   ]
  },
  {
   "cell_type": "code",
   "execution_count": 85,
   "metadata": {},
   "outputs": [
    {
     "data": {
      "text/plain": [
       "Btc      665.03\n",
       "Ether     16.74\n",
       "dtype: float64"
      ]
     },
     "execution_count": 85,
     "metadata": {},
     "output_type": "execute_result"
    }
   ],
   "source": [
    "prices.median()"
   ]
  },
  {
   "cell_type": "markdown",
   "metadata": {},
   "source": [
    "# Visualizing distribution"
   ]
  },
  {
   "cell_type": "code",
   "execution_count": 95,
   "metadata": {},
   "outputs": [
    {
     "data": {
      "text/plain": [
       "<matplotlib.axes._subplots.AxesSubplot at 0x23cb9d95348>"
      ]
     },
     "execution_count": 95,
     "metadata": {},
     "output_type": "execute_result"
    },
    {
     "data": {
      "image/png": "[encoded data removed]",
      "text/plain": [
       "<Figure size 432x288 with 1 Axes>"
      ]
     },
     "metadata": {
      "needs_background": "light"
     },
     "output_type": "display_data"
    }
   ],
   "source": [
    "prices.plot(kind='hist', y='Ether',bins=150)"
   ]
  },
  {
   "cell_type": "code",
   "execution_count": 96,
   "metadata": {},
   "outputs": [
    {
     "data": {
      "text/plain": [
       "<matplotlib.axes._subplots.AxesSubplot at 0x23cb9fa0608>"
      ]
     },
     "execution_count": 96,
     "metadata": {},
     "output_type": "execute_result"
    },
    {
     "data": {
      "image/png": "[encoded data removed]",
      "text/plain": [
       "<Figure size 432x288 with 1 Axes>"
      ]
     },
     "metadata": {
      "needs_background": "light"
     },
     "output_type": "display_data"
    }
   ],
   "source": [
    "prices.plot(kind='hist', y='Btc', bins=150)"
   ]
  },
  {
   "cell_type": "code",
   "execution_count": 98,
   "metadata": {},
   "outputs": [
    {
     "data": {
      "text/plain": [
       "<matplotlib.axes._subplots.AxesSubplot at 0x23cba1dda48>"
      ]
     },
     "execution_count": 98,
     "metadata": {},
     "output_type": "execute_result"
    },
    {
     "data": {
      "image/png": "[encoded data removed]",
      "text/plain": [
       "<Figure size 864x432 with 1 Axes>"
      ]
     },
     "metadata": {
      "needs_background": "light"
     },
     "output_type": "display_data"
    }
   ],
   "source": [
    "fig, ax=plt.subplots(figsize=(12,6))\n",
    "sns.distplot(prices['Ether'], ax=ax)"
   ]
  },
  {
   "cell_type": "code",
   "execution_count": 101,
   "metadata": {},
   "outputs": [
    {
     "data": {
      "text/plain": [
       "<matplotlib.axes._subplots.AxesSubplot at 0x23cbb77a848>"
      ]
     },
     "execution_count": 101,
     "metadata": {},
     "output_type": "execute_result"
    },
    {
     "data": {
      "image/png": "[encoded data removed]",
      "text/plain": [
       "<Figure size 864x432 with 1 Axes>"
      ]
     },
     "metadata": {
      "needs_background": "light"
     },
     "output_type": "display_data"
    }
   ],
   "source": [
    "fig, ax=plt.subplots(figsize=(12,6))\n",
    "sns.distplot(prices['Btc'],rug=True, ax=ax)"
   ]
  },
  {
   "cell_type": "code",
   "execution_count": 102,
   "metadata": {},
   "outputs": [
    {
     "data": {
      "text/plain": [
       "'Seaeborns distplot is a general method that will plot a histogram, rugplot and KDE\\n\\nWe can also visualize a cumulative graph of our distribution'"
      ]
     },
     "execution_count": 102,
     "metadata": {},
     "output_type": "execute_result"
    }
   ],
   "source": [
    "\"\"\"Seaeborns distplot is a general method that will plot a histogram, rugplot and KDE\n",
    "\n",
    "We can also visualize a cumulative graph of our distribution\"\"\""
   ]
  },
  {
   "cell_type": "code",
   "execution_count": 103,
   "metadata": {},
   "outputs": [
    {
     "data": {
      "text/plain": [
       "<matplotlib.axes._subplots.AxesSubplot at 0x23cbb514488>"
      ]
     },
     "execution_count": 103,
     "metadata": {},
     "output_type": "execute_result"
    },
    {
     "data": {
      "image/png": "[encoded data removed]",
      "text/plain": [
       "<Figure size 864x432 with 1 Axes>"
      ]
     },
     "metadata": {
      "needs_background": "light"
     },
     "output_type": "display_data"
    }
   ],
   "source": [
    "fig, ax=plt.subplots(figsize=(12,6))\n",
    "sns.distplot(prices['Btc'], ax=ax, hist_kws=dict(cumulative=True), kde_kws=dict(cumulative=True))"
   ]
  },
  {
   "cell_type": "code",
   "execution_count": 104,
   "metadata": {},
   "outputs": [
    {
     "data": {
      "text/plain": [
       "<matplotlib.axes._subplots.AxesSubplot at 0x23cbb5b44c8>"
      ]
     },
     "execution_count": 104,
     "metadata": {},
     "output_type": "execute_result"
    },
    {
     "data": {
      "image/png": "[encoded data removed]",
      "text/plain": [
       "<Figure size 864x432 with 1 Axes>"
      ]
     },
     "metadata": {
      "needs_background": "light"
     },
     "output_type": "display_data"
    }
   ],
   "source": [
    "fig, ax=plt.subplots(figsize=(12,6))\n",
    "sns.distplot(prices['Ether'], ax=ax, hist_kws=dict(cumulative=True), kde_kws=dict(cumulative=True))"
   ]
  },
  {
   "cell_type": "markdown",
   "metadata": {},
   "source": [
    "This plot shows how many samples fall behind a given value and we can increase the number of bins in order to have more detail"
   ]
  },
  {
   "cell_type": "code",
   "execution_count": 105,
   "metadata": {},
   "outputs": [
    {
     "data": {
      "text/plain": [
       "<matplotlib.axes._subplots.AxesSubplot at 0x23cbb60b3c8>"
      ]
     },
     "execution_count": 105,
     "metadata": {},
     "output_type": "execute_result"
    },
    {
     "data": {
      "image/png": "[encoded data removed]",
      "text/plain": [
       "<Figure size 864x432 with 1 Axes>"
      ]
     },
     "metadata": {
      "needs_background": "light"
     },
     "output_type": "display_data"
    }
   ],
   "source": [
    "fig, ax=plt.subplots(figsize=(12,6))\n",
    "sns.distplot(prices['Ether'], ax=ax, bins=50, hist_kws=dict(cumulative=True), kde_kws=dict(cumulative=True))"
   ]
  },
  {
   "cell_type": "markdown",
   "metadata": {},
   "source": [
    "# Visualizing bivariate distributions"
   ]
  },
  {
   "cell_type": "code",
   "execution_count": 106,
   "metadata": {},
   "outputs": [
    {
     "data": {
      "text/plain": [
       "'The most common way to observe a bivariate distribution is a scatterplot, the jointplot will also include the distribution of the variables:'"
      ]
     },
     "execution_count": 106,
     "metadata": {},
     "output_type": "execute_result"
    }
   ],
   "source": [
    "\"\"\"The most common way to observe a bivariate distribution is a scatterplot, the jointplot will also include the distribution of the variables:\"\"\""
   ]
  },
  {
   "cell_type": "code",
   "execution_count": 108,
   "metadata": {},
   "outputs": [
    {
     "data": {
      "text/plain": [
       "<seaborn.axisgrid.JointGrid at 0x23cbbcfa148>"
      ]
     },
     "execution_count": 108,
     "metadata": {},
     "output_type": "execute_result"
    },
    {
     "data": {
      "image/png": "[encoded data removed]",
      "text/plain": [
       "<Figure size 648x648 with 3 Axes>"
      ]
     },
     "metadata": {
      "needs_background": "light"
     },
     "output_type": "display_data"
    }
   ],
   "source": [
    "sns.jointplot(x=\"Btc\", y=\"Ether\", data=prices, height=9)"
   ]
  },
  {
   "cell_type": "code",
   "execution_count": 109,
   "metadata": {},
   "outputs": [
    {
     "data": {
      "text/plain": [
       "'If you want only a scatter plot, you can use the regplot method, that also fits a linear regression model in the plot:'"
      ]
     },
     "execution_count": 109,
     "metadata": {},
     "output_type": "execute_result"
    }
   ],
   "source": [
    "\"\"\"If you want only a scatter plot, you can use the regplot method, that also fits a linear regression model in the plot:\"\"\""
   ]
  },
  {
   "cell_type": "code",
   "execution_count": 110,
   "metadata": {},
   "outputs": [
    {
     "data": {
      "text/plain": [
       "<matplotlib.axes._subplots.AxesSubplot at 0x23cbc447388>"
      ]
     },
     "execution_count": 110,
     "metadata": {},
     "output_type": "execute_result"
    },
    {
     "data": {
      "image/png": "[encoded data removed]",
      "text/plain": [
       "<Figure size 864x432 with 1 Axes>"
      ]
     },
     "metadata": {
      "needs_background": "light"
     },
     "output_type": "display_data"
    }
   ],
   "source": [
    "fig, ax=plt.subplots(figsize=(12,6))\n",
    "sns.regplot(x=\"Btc\", y=\"Ether\", data=prices, ax=ax)"
   ]
  },
  {
   "cell_type": "markdown",
   "metadata": {},
   "source": [
    "# Percentiles"
   ]
  },
  {
   "cell_type": "code",
   "execution_count": 111,
   "metadata": {},
   "outputs": [
    {
     "data": {
      "text/plain": [
       "<matplotlib.lines.Line2D at 0x23cbc660988>"
      ]
     },
     "execution_count": 111,
     "metadata": {},
     "output_type": "execute_result"
    },
    {
     "data": {
      "image/png": "[encoded data removed]",
      "text/plain": [
       "<Figure size 1080x504 with 1 Axes>"
      ]
     },
     "metadata": {
      "needs_background": "light"
     },
     "output_type": "display_data"
    }
   ],
   "source": [
    "fig, ax = plt.subplots(figsize=(15, 7))\n",
    "sns.distplot(prices['Btc'], ax=ax, bins=50,\n",
    "             hist_kws=dict(cumulative=True),\n",
    "             kde_kws=dict(cumulative=True))\n",
    "ax.axhline(0.5, color='red')\n",
    "ax.axvline(prices['Btc'].median(), color='red')"
   ]
  },
  {
   "cell_type": "code",
   "execution_count": null,
   "metadata": {},
   "outputs": [],
   "source": []
  }
 ],
 "metadata": {
  "kernelspec": {
   "display_name": "Python 3",
   "language": "python",
   "name": "python3"
  },
  "language_info": {
   "codemirror_mode": {
    "name": "ipython",
    "version": 3
   },
   "file_extension": ".py",
   "mimetype": "text/x-python",
   "name": "python",
   "nbconvert_exporter": "python",
   "pygments_lexer": "ipython3",
   "version": "3.7.4"
  }
 },
 "nbformat": 4,
 "nbformat_minor": 2
}
